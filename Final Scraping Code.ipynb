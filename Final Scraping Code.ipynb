{
 "cells": [
  {
   "cell_type": "markdown",
   "metadata": {},
   "source": [
    "###  Import Libraries"
   ]
  },
  {
   "cell_type": "code",
   "execution_count": 2,
   "metadata": {},
   "outputs": [
    {
     "name": "stdout",
     "output_type": "stream",
     "text": [
      "\r\n",
      "<!DOCTYPE html>\r\n",
      "<html lang=\"en\" class=\"theme  modificators  blocks  height-full\">\r\n",
      "  <head>\r\n",
      "    <meta charset=\"utf-8\" />\r\n",
      "    <meta http-equiv=\"X-UA-Compatible\" content=\"IE=edge,chrome=1\" />\r\n",
      "    <meta name=\"viewport\" content=\"width=device-width, initial-scale=1, minimum-scale=1, maximum-scale=1\">\r\n",
      "    <title>  Find a Doctor | White Plains Hospital Physician Associates</title>\r\n",
      "    <link rel='dns-prefetch' href='//ajax.googleapis.com' />\n",
      "<link rel='dns-prefetch' href='//s.w.org' />\n",
      "\t\t<script\n"
     ]
    }
   ],
   "source": [
    "from requests import get\n",
    "url = \"https://www.wphphysicianassociates.org/find-a-doctor/\"\n",
    "response = get(url)\n",
    "print(response.text[:500])"
   ]
  },
  {
   "cell_type": "code",
   "execution_count": 3,
   "metadata": {},
   "outputs": [
    {
     "data": {
      "text/plain": [
       "bs4.BeautifulSoup"
      ]
     },
     "execution_count": 3,
     "metadata": {},
     "output_type": "execute_result"
    }
   ],
   "source": [
    "from bs4 import BeautifulSoup\n",
    "\n",
    "html_soup = BeautifulSoup(response.text,'html.parser')\n",
    "\n",
    "type(html_soup)"
   ]
  },
  {
   "cell_type": "markdown",
   "metadata": {},
   "source": [
    "### Create Containers for text"
   ]
  },
  {
   "cell_type": "code",
   "execution_count": 4,
   "metadata": {},
   "outputs": [
    {
     "name": "stdout",
     "output_type": "stream",
     "text": [
      "<class 'bs4.element.ResultSet'>\n",
      "15\n"
     ]
    }
   ],
   "source": [
    "Physician_containers = html_soup.find_all('div', class_ = 'results__item')\n",
    "print(type(Physician_containers))\n",
    "print(len(Physician_containers))"
   ]
  },
  {
   "cell_type": "code",
   "execution_count": 299,
   "metadata": {},
   "outputs": [],
   "source": [
    "#pages = html_soup.find_all('div', class_ = 'wp-pagination-1')"
   ]
  },
  {
   "cell_type": "code",
   "execution_count": 300,
   "metadata": {
    "scrolled": true
   },
   "outputs": [],
   "source": [
    "#pages"
   ]
  },
  {
   "cell_type": "code",
   "execution_count": 652,
   "metadata": {},
   "outputs": [],
   "source": [
    "#Physician_containers"
   ]
  },
  {
   "cell_type": "markdown",
   "metadata": {},
   "source": [
    "### Create First physician data"
   ]
  },
  {
   "cell_type": "code",
   "execution_count": 5,
   "metadata": {},
   "outputs": [
    {
     "data": {
      "text/plain": [
       "<div class=\"results__item\">\n",
       "<div class=\"container-fluid-flex\">\n",
       "<div class=\"row-flex\">\n",
       "<div class=\"col-flex col-lg-2-flex col-md-3-flex col-sm-6-flex col-xs-12-flex\">\n",
       "<div class=\"theme components images image-wrapper results__item-photo\">\n",
       "<a href=\"https://www.wphphysicianassociates.org/doctors/dr-lauren-elizabeth-adams-md/\">\n",
       "<img alt=\"results-image\" class=\"theme modificators images image-full-width\" src=\"https://www.wphphysicianassociates.org/wp-content/uploads/2017/08/adams-lauren-FINAL.jpg\"/>\n",
       "</a>\n",
       "</div>\n",
       "</div>\n",
       "<div class=\"col-flex col-lg-3-flex col-md-4-flex col-sm-6-flex col-xs-12-flex theme modificators flexboxes flex-container direction-column justify-space-between\">\n",
       "<div class=\"results__item-name\">\n",
       "<a href=\"https://www.wphphysicianassociates.org/doctors/dr-lauren-elizabeth-adams-md/\">\n",
       "<h2 class=\"results__item-title theme modificators colors color-1 fonts font-family-2-bold font-title-sm-5\">\n",
       "                                                Lauren Elizabeth Adams, MD                                            </h2>\n",
       "</a>\n",
       "<p class=\"results__item-subtitle theme modificators colors color-1 fonts font-sub-title-sm font-family-3-italic\">Dermatology </p>\n",
       "</div>\n",
       "<a class=\"results__item-button theme modificators blocks inline-block align text-center components buttons button-3 colors bg-color-1 color-3 fonts font-family-2-bold font-sub-title-sm flexboxes align-self-start\" href=\"https://www.wphphysicianassociates.org/doctors/dr-lauren-elizabeth-adams-md/\">\n",
       "                                        Make an Appointment                                    </a>\n",
       "</div>\n",
       "<div class=\"col-flex col-lg-7-flex col-md-5-flex col-sm-12-flex col-xs-12-flex results__item-desc theme modificators flexboxes flex-container direction-column justify-space-between\">\n",
       "<div class=\"theme modificators colors color-10\">\n",
       "<a class=\"theme modificators fonts font-family-2-bold font-sub-title-sm results__phone\" href=\"tel:(914) 242-2020\">\n",
       "                                            (914) 242-2020                                        </a>\n",
       "<p class=\"theme modificators fonts paragraph-md results__item-paragraph theme disableLink\">185 Kisco Avenue, Mt. Kisco, NY 10549  </p>\n",
       "</div>\n",
       "<p class=\"theme modificators fonts paragraph-md colors color-10\">\n",
       "                                        Lauren Elizabeth Adams, M.D. is a board-certified dermatologist. She earned her undergraduate degree at Duke University Trinity College where she graduated Summa Cum Laude. She obtained her medical degree from the State University of New York Downstate College of Medicine, gradua...                                    </p>\n",
       "</div>\n",
       "</div>\n",
       "</div>\n",
       "<div class=\"container-fluid-flex\">\n",
       "<div class=\"results__item-border theme modificators colors br-color-1\"></div>\n",
       "</div>\n",
       "</div>"
      ]
     },
     "execution_count": 5,
     "metadata": {},
     "output_type": "execute_result"
    }
   ],
   "source": [
    "first_Physician = Physician_containers[0]\n",
    "first_Physician"
   ]
  },
  {
   "cell_type": "code",
   "execution_count": 6,
   "metadata": {},
   "outputs": [
    {
     "data": {
      "text/plain": [
       "<div class=\"container-fluid-flex\">\n",
       "<div class=\"row-flex\">\n",
       "<div class=\"col-flex col-lg-2-flex col-md-3-flex col-sm-6-flex col-xs-12-flex\">\n",
       "<div class=\"theme components images image-wrapper results__item-photo\">\n",
       "<a href=\"https://www.wphphysicianassociates.org/doctors/dr-lauren-elizabeth-adams-md/\">\n",
       "<img alt=\"results-image\" class=\"theme modificators images image-full-width\" src=\"https://www.wphphysicianassociates.org/wp-content/uploads/2017/08/adams-lauren-FINAL.jpg\"/>\n",
       "</a>\n",
       "</div>\n",
       "</div>\n",
       "<div class=\"col-flex col-lg-3-flex col-md-4-flex col-sm-6-flex col-xs-12-flex theme modificators flexboxes flex-container direction-column justify-space-between\">\n",
       "<div class=\"results__item-name\">\n",
       "<a href=\"https://www.wphphysicianassociates.org/doctors/dr-lauren-elizabeth-adams-md/\">\n",
       "<h2 class=\"results__item-title theme modificators colors color-1 fonts font-family-2-bold font-title-sm-5\">\n",
       "                                                Lauren Elizabeth Adams, MD                                            </h2>\n",
       "</a>\n",
       "<p class=\"results__item-subtitle theme modificators colors color-1 fonts font-sub-title-sm font-family-3-italic\">Dermatology </p>\n",
       "</div>\n",
       "<a class=\"results__item-button theme modificators blocks inline-block align text-center components buttons button-3 colors bg-color-1 color-3 fonts font-family-2-bold font-sub-title-sm flexboxes align-self-start\" href=\"https://www.wphphysicianassociates.org/doctors/dr-lauren-elizabeth-adams-md/\">\n",
       "                                        Make an Appointment                                    </a>\n",
       "</div>\n",
       "<div class=\"col-flex col-lg-7-flex col-md-5-flex col-sm-12-flex col-xs-12-flex results__item-desc theme modificators flexboxes flex-container direction-column justify-space-between\">\n",
       "<div class=\"theme modificators colors color-10\">\n",
       "<a class=\"theme modificators fonts font-family-2-bold font-sub-title-sm results__phone\" href=\"tel:(914) 242-2020\">\n",
       "                                            (914) 242-2020                                        </a>\n",
       "<p class=\"theme modificators fonts paragraph-md results__item-paragraph theme disableLink\">185 Kisco Avenue, Mt. Kisco, NY 10549  </p>\n",
       "</div>\n",
       "<p class=\"theme modificators fonts paragraph-md colors color-10\">\n",
       "                                        Lauren Elizabeth Adams, M.D. is a board-certified dermatologist. She earned her undergraduate degree at Duke University Trinity College where she graduated Summa Cum Laude. She obtained her medical degree from the State University of New York Downstate College of Medicine, gradua...                                    </p>\n",
       "</div>\n",
       "</div>\n",
       "</div>"
      ]
     },
     "execution_count": 6,
     "metadata": {},
     "output_type": "execute_result"
    }
   ],
   "source": [
    "first_Physician.div"
   ]
  },
  {
   "cell_type": "code",
   "execution_count": 7,
   "metadata": {},
   "outputs": [
    {
     "data": {
      "text/plain": [
       "<a href=\"https://www.wphphysicianassociates.org/doctors/dr-lauren-elizabeth-adams-md/\">\n",
       "<img alt=\"results-image\" class=\"theme modificators images image-full-width\" src=\"https://www.wphphysicianassociates.org/wp-content/uploads/2017/08/adams-lauren-FINAL.jpg\"/>\n",
       "</a>"
      ]
     },
     "execution_count": 7,
     "metadata": {},
     "output_type": "execute_result"
    }
   ],
   "source": [
    "first_Physician.a"
   ]
  },
  {
   "cell_type": "markdown",
   "metadata": {},
   "source": [
    "### First Column Value"
   ]
  },
  {
   "cell_type": "code",
   "execution_count": 8,
   "metadata": {},
   "outputs": [
    {
     "data": {
      "text/plain": [
       "<h2 class=\"results__item-title theme modificators colors color-1 fonts font-family-2-bold font-title-sm-5\">\n",
       "                                                Lauren Elizabeth Adams, MD                                            </h2>"
      ]
     },
     "execution_count": 8,
     "metadata": {},
     "output_type": "execute_result"
    }
   ],
   "source": [
    "first_Physician.h2"
   ]
  },
  {
   "cell_type": "code",
   "execution_count": null,
   "metadata": {},
   "outputs": [],
   "source": []
  },
  {
   "cell_type": "code",
   "execution_count": 9,
   "metadata": {},
   "outputs": [
    {
     "data": {
      "text/plain": [
       "'\\r\\n                                                Lauren Elizabeth Adams, MD                                            '"
      ]
     },
     "execution_count": 9,
     "metadata": {},
     "output_type": "execute_result"
    }
   ],
   "source": [
    "first_name = first_Physician.h2.text\n",
    "first_name"
   ]
  },
  {
   "cell_type": "code",
   "execution_count": 99,
   "metadata": {},
   "outputs": [],
   "source": []
  },
  {
   "cell_type": "markdown",
   "metadata": {},
   "source": [
    "### Second Column"
   ]
  },
  {
   "cell_type": "code",
   "execution_count": 10,
   "metadata": {},
   "outputs": [
    {
     "data": {
      "text/plain": [
       "<a class=\"results__item-button theme modificators blocks inline-block align text-center components buttons button-3 colors bg-color-1 color-3 fonts font-family-2-bold font-sub-title-sm flexboxes align-self-start\" href=\"https://www.wphphysicianassociates.org/doctors/dr-lauren-elizabeth-adams-md/\">\n",
       "                                        Make an Appointment                                    </a>"
      ]
     },
     "execution_count": 10,
     "metadata": {},
     "output_type": "execute_result"
    }
   ],
   "source": [
    "Appointment_link = first_Physician.div.find('a', class_ = 'results__item-button theme modificators blocks inline-block align text-center components buttons button-3 colors bg-color-1 color-3 fonts font-family-2-bold font-sub-title-sm flexboxes align-self-start')\n",
    "Appointment_link"
   ]
  },
  {
   "cell_type": "code",
   "execution_count": 11,
   "metadata": {},
   "outputs": [],
   "source": [
    "Appointment_link = Appointment_link.text"
   ]
  },
  {
   "cell_type": "code",
   "execution_count": 12,
   "metadata": {},
   "outputs": [
    {
     "data": {
      "text/plain": [
       "'\\r\\n                                        Make an Appointment                                    '"
      ]
     },
     "execution_count": 12,
     "metadata": {},
     "output_type": "execute_result"
    }
   ],
   "source": [
    "Appointment_link\n"
   ]
  },
  {
   "cell_type": "markdown",
   "metadata": {},
   "source": [
    "### Third Colunm Value"
   ]
  },
  {
   "cell_type": "code",
   "execution_count": 13,
   "metadata": {},
   "outputs": [
    {
     "data": {
      "text/plain": [
       "<a class=\"theme modificators fonts font-family-2-bold font-sub-title-sm results__phone\" href=\"tel:(914) 242-2020\">\n",
       "                                            (914) 242-2020                                        </a>"
      ]
     },
     "execution_count": 13,
     "metadata": {},
     "output_type": "execute_result"
    }
   ],
   "source": [
    "Phone = first_Physician.div.find('a', class_ = 'theme modificators fonts font-family-2-bold font-sub-title-sm results__phone')\n",
    "Phone"
   ]
  },
  {
   "cell_type": "code",
   "execution_count": 35,
   "metadata": {},
   "outputs": [
    {
     "data": {
      "text/plain": [
       "'\\r\\n                                            (914) 849-2690                                        '"
      ]
     },
     "execution_count": 35,
     "metadata": {},
     "output_type": "execute_result"
    }
   ],
   "source": [
    "Phone = Phone.text\n",
    "Phone"
   ]
  },
  {
   "cell_type": "markdown",
   "metadata": {},
   "source": [
    "### Forth Column"
   ]
  },
  {
   "cell_type": "code",
   "execution_count": 14,
   "metadata": {},
   "outputs": [
    {
     "data": {
      "text/plain": [
       "<p class=\"theme modificators fonts paragraph-md results__item-paragraph theme disableLink\">185 Kisco Avenue, Mt. Kisco, NY 10549  </p>"
      ]
     },
     "execution_count": 14,
     "metadata": {},
     "output_type": "execute_result"
    }
   ],
   "source": [
    "Address = first_Physician.div.find('p', class_ = 'theme modificators fonts paragraph-md results__item-paragraph theme disableLink')\n",
    "Address"
   ]
  },
  {
   "cell_type": "code",
   "execution_count": 15,
   "metadata": {},
   "outputs": [],
   "source": [
    "Address = Address.text"
   ]
  },
  {
   "cell_type": "code",
   "execution_count": 38,
   "metadata": {},
   "outputs": [
    {
     "data": {
      "text/plain": [
       "'170 Maple Avenue, White Plains, NY 10601'"
      ]
     },
     "execution_count": 38,
     "metadata": {},
     "output_type": "execute_result"
    }
   ],
   "source": [
    "Address"
   ]
  },
  {
   "cell_type": "markdown",
   "metadata": {},
   "source": [
    "### Fifth Column"
   ]
  },
  {
   "cell_type": "code",
   "execution_count": 16,
   "metadata": {},
   "outputs": [
    {
     "data": {
      "text/plain": [
       "<p class=\"theme modificators fonts paragraph-md colors color-10\">\n",
       "                                        Lauren Elizabeth Adams, M.D. is a board-certified dermatologist. She earned her undergraduate degree at Duke University Trinity College where she graduated Summa Cum Laude. She obtained her medical degree from the State University of New York Downstate College of Medicine, gradua...                                    </p>"
      ]
     },
     "execution_count": 16,
     "metadata": {},
     "output_type": "execute_result"
    }
   ],
   "source": [
    "Phy_Biography = first_Physician.div.find('p', class_ = 'theme modificators fonts paragraph-md colors color-10')\n",
    "Phy_Biography"
   ]
  },
  {
   "cell_type": "code",
   "execution_count": 17,
   "metadata": {},
   "outputs": [],
   "source": [
    "Phy_Biography = Phy_Biography.text"
   ]
  },
  {
   "cell_type": "code",
   "execution_count": 18,
   "metadata": {},
   "outputs": [
    {
     "data": {
      "text/plain": [
       "'\\r\\n                                        Lauren Elizabeth Adams, M.D. is a board-certified dermatologist. She earned her undergraduate degree at Duke University Trinity College where she graduated Summa Cum Laude. She obtained her medical degree from the State University of New York Downstate College of Medicine, gradua...                                    '"
      ]
     },
     "execution_count": 18,
     "metadata": {},
     "output_type": "execute_result"
    }
   ],
   "source": [
    "Phy_Biography"
   ]
  },
  {
   "cell_type": "markdown",
   "metadata": {},
   "source": [
    "### Creating a loop to extract all first page physician data"
   ]
  },
  {
   "cell_type": "code",
   "execution_count": 19,
   "metadata": {},
   "outputs": [
    {
     "ename": "NameError",
     "evalue": "name 'file' is not defined",
     "output_type": "error",
     "traceback": [
      "\u001b[1;31m---------------------------------------------------------------------------\u001b[0m",
      "\u001b[1;31mNameError\u001b[0m                                 Traceback (most recent call last)",
      "\u001b[1;32m<ipython-input-19-d29e17c2fe48>\u001b[0m in \u001b[0;36m<module>\u001b[1;34m\u001b[0m\n\u001b[0;32m      1\u001b[0m \u001b[1;32mfrom\u001b[0m \u001b[0murllib\u001b[0m\u001b[1;33m.\u001b[0m\u001b[0mrequest\u001b[0m \u001b[1;32mimport\u001b[0m \u001b[0murlopen\u001b[0m\u001b[1;33m\u001b[0m\u001b[1;33m\u001b[0m\u001b[0m\n\u001b[0;32m      2\u001b[0m \u001b[1;32mfrom\u001b[0m \u001b[0mbs4\u001b[0m \u001b[1;32mimport\u001b[0m \u001b[0mBeautifulSoup\u001b[0m\u001b[1;33m\u001b[0m\u001b[1;33m\u001b[0m\u001b[0m\n\u001b[1;32m----> 3\u001b[1;33m \u001b[0mf\u001b[0m \u001b[1;33m=\u001b[0m \u001b[0mopen\u001b[0m\u001b[1;33m(\u001b[0m\u001b[0mfile\u001b[0m\u001b[1;33m,\u001b[0m \u001b[1;34m\"w\"\u001b[0m\u001b[1;33m)\u001b[0m\u001b[1;33m\u001b[0m\u001b[1;33m\u001b[0m\u001b[0m\n\u001b[0m\u001b[0;32m      4\u001b[0m \u001b[0mHeaders\u001b[0m \u001b[1;33m=\u001b[0m \u001b[1;34m\"first_name,Appointment_link,Phone,Address,Phy_Biography\\n\"\u001b[0m\u001b[1;33m\u001b[0m\u001b[1;33m\u001b[0m\u001b[0m\n\u001b[0;32m      5\u001b[0m \u001b[0mf\u001b[0m\u001b[1;33m.\u001b[0m\u001b[0mwrite\u001b[0m\u001b[1;33m(\u001b[0m\u001b[0mHeaders\u001b[0m\u001b[1;33m)\u001b[0m\u001b[1;33m\u001b[0m\u001b[1;33m\u001b[0m\u001b[0m\n",
      "\u001b[1;31mNameError\u001b[0m: name 'file' is not defined"
     ]
    }
   ],
   "source": [
    "from urllib.request import urlopen\n",
    "from bs4 import BeautifulSoup\n",
    "f = open(file, \"w\")\n",
    "Headers = \"first_name,Appointment_link,Phone,Address,Phy_Biography\\n\"\n",
    "f.write(Headers)\n",
    "A=[]\n",
    "B=[]\n",
    "C=[]\n",
    "D=[]\n",
    "E=[]\n",
    "\n",
    "\n",
    "for page in range(1,15):\n",
    "    url = \"https://www.wphphysicianassociates.org/find-a-doctor/\"\n",
    "    html = urlopen(url)\n",
    "    html_soup = BeautifulSoup(html,\"html.parser\")\n",
    "    Title = html_soup.find_all('div', class_ = 'results__item')\n",
    "    for i in Title:\n",
    "        try:\n",
    "            first_name = i.find('h2').get_text()\n",
    "            Appointment_link = i.div.find('a', class_ = 'results__item-button theme modificators blocks inline-block align text-center components buttons button-3 colors bg-color-1 color-3 fonts font-family-2-bold font-sub-title-sm flexboxes align-self-start').get_text()\n",
    "            Phone = i.div.find('a', class_ = 'theme modificators fonts font-family-2-bold font-sub-title-sm results__phone').get_text()\n",
    "            Address = i.div.find('p', class_ = 'theme modificators fonts paragraph-md results__item-paragraph theme disableLink').get_text()\n",
    "            Phy_Biography = i.div.find('p', class_ = 'theme modificators fonts paragraph-md colors color-10').get_text()\n",
    "            A.append(first_name)\n",
    "            B.append(Appointment_link)\n",
    "            C.append(Phone)\n",
    "            D.append(Address)\n",
    "            E.append(Phy_Biography)\n",
    "            \n",
    "        except: AttributeError\n",
    "f.close()         \n",
    "   "
   ]
  },
  {
   "cell_type": "code",
   "execution_count": null,
   "metadata": {},
   "outputs": [],
   "source": []
  },
  {
   "cell_type": "markdown",
   "metadata": {},
   "source": [
    "### Creating a Dataframe from the text"
   ]
  },
  {
   "cell_type": "code",
   "execution_count": 53,
   "metadata": {},
   "outputs": [],
   "source": [
    "#import pandas to convert list to data frame\n",
    "import pandas as pd\n",
    "df=pd.DataFrame(A,columns=['first_name'])\n",
    "df['Appointment_link']=B\n",
    "df['Phone']=C\n",
    "df['Address']=D\n",
    "df['Phy_Biography']=E\n",
    "df1 = df.applymap(lambda x: x.strip() if type(x) is str else x)\n",
    "df1.to_csv(\"detail.csv\")"
   ]
  },
  {
   "cell_type": "markdown",
   "metadata": {},
   "source": [
    "### Write in a CSV file"
   ]
  },
  {
   "cell_type": "code",
   "execution_count": 22,
   "metadata": {},
   "outputs": [],
   "source": [
    "df.to_csv('WebData.csv')"
   ]
  },
  {
   "cell_type": "code",
   "execution_count": 58,
   "metadata": {},
   "outputs": [],
   "source": [
    "df2=pd.DataFrame({'first_name':A,\"Appointment_link\":B,\"Phone\":C,\"Address\":D,\"Phy_Biography\":E})\n",
    "df3 = df2.applymap(lambda x: x.strip() if type(x) is str else x)"
   ]
  },
  {
   "cell_type": "code",
   "execution_count": 59,
   "metadata": {},
   "outputs": [],
   "source": [
    "df3.to_csv('Datame.csv')"
   ]
  }
 ],
 "metadata": {
  "kernelspec": {
   "display_name": "Python 3",
   "language": "python",
   "name": "python3"
  },
  "language_info": {
   "codemirror_mode": {
    "name": "ipython",
    "version": 3
   },
   "file_extension": ".py",
   "mimetype": "text/x-python",
   "name": "python",
   "nbconvert_exporter": "python",
   "pygments_lexer": "ipython3",
   "version": "3.7.1"
  }
 },
 "nbformat": 4,
 "nbformat_minor": 2
}

{
 "cells": [
  {
   "cell_type": "code",
   "execution_count": 14,
   "metadata": {},
   "outputs": [],
   "source": [
    "import numpy as np # linear algebra\n",
    "import pandas as pd # pandas for dataframe based data processing and CSV file I/O\n",
    "\n",
    "import requests # for http requests\n",
    "from bs4 import BeautifulSoup # for html parsing and scraping\n",
    "import bs4\n",
    "\n",
    "from fastnumbers import isfloat \n",
    "from fastnumbers import fast_float\n",
    "from multiprocessing.dummy import Pool as ThreadPool \n",
    "\n",
    "import matplotlib.pyplot as plt\n",
    "import seaborn as sns\n",
    "import json\n",
    "from tidylib import tidy_document # for tidying incorrect html\n",
    "\n",
    "sns.set_style('whitegrid')\n",
    "%matplotlib inline\n",
    "from IPython.core.interactiveshell import InteractiveShell\n",
    "InteractiveShell.ast_node_interactivity = \"all\""
   ]
  },
  {
   "cell_type": "code",
   "execution_count": 15,
   "metadata": {},
   "outputs": [],
   "source": [
    "def ffloat(string):\n",
    "    if string is None:\n",
    "        return np.nan\n",
    "    if type(string)==float or type(string)==np.float64:\n",
    "        return string\n",
    "    if type(string)==int or type(string)==np.int64:\n",
    "        return string\n",
    "    return fast_float(string.split(\" \")[0].replace(',','').replace('%',''),\n",
    "                      default=np.nan)"
   ]
  },
  {
   "cell_type": "code",
   "execution_count": 16,
   "metadata": {},
   "outputs": [],
   "source": [
    "def ffloat_list(string_list):\n",
    "    return list(map(ffloat,string_list))"
   ]
  },
  {
   "cell_type": "code",
   "execution_count": 17,
   "metadata": {},
   "outputs": [],
   "source": [
    "def remove_multiple_spaces(string):\n",
    "    if type(string)==str:\n",
    "        return ' '.join(string.split())\n",
    "    return string"
   ]
  },
  {
   "cell_type": "code",
   "execution_count": 18,
   "metadata": {},
   "outputs": [
    {
     "data": {
      "text/plain": [
       "200"
      ]
     },
     "execution_count": 18,
     "metadata": {},
     "output_type": "execute_result"
    },
    {
     "data": {
      "text/plain": [
       "b'<!doctype html>\\n<html>\\n<head>\\n    <title>Example Domain</title>\\n\\n    <meta charset=\"utf-8\" />\\n    <meta http-equiv=\"Content-type\" content=\"text/html; charset=utf-8\" />\\n    <meta name=\"viewport\" content=\"width=device-width, initial-scale=1\" />\\n    <style type=\"text/css\">\\n    body {\\n        background-color: #f0f0f2;\\n        margin: 0;\\n        padding: 0;\\n        font-family: \"Open Sans\", \"Helvetica Neue\", Helvetica, Arial, sans-serif;\\n        \\n    }\\n    div {\\n        width: 600px;\\n        margin: 5em auto;\\n        padding: 50px;\\n        background-color: #fff;\\n        border-radius: 1em;\\n    }\\n    a:link, a:visited {\\n        color: #38488f;\\n        text-decoration: none;\\n    }\\n    @media (max-width: 700px) {\\n        body {\\n            background-color: #fff;\\n        }\\n        div {\\n            width: auto;\\n            margin: 0 auto;\\n            border-radius: 0;\\n            padding: 1em;\\n        }\\n    }\\n    </style>    \\n</head>\\n\\n<body>\\n<div>\\n    <h1>Example Domain</h1>\\n    <p>This domain is established to be used for illustrative examples in documents. You may use this\\n    domain in examples without prior coordination or asking for permission.</p>\\n    <p><a href=\"http://www.iana.org/domains/example\">More information...</a></p>\\n</div>\\n</body>\\n</html>\\n'"
      ]
     },
     "execution_count": 18,
     "metadata": {},
     "output_type": "execute_result"
    }
   ],
   "source": [
    "response = requests.get(\"http://www.example.com/\", timeout=240)\n",
    "response.status_code\n",
    "response.content"
   ]
  },
  {
   "cell_type": "code",
   "execution_count": 19,
   "metadata": {},
   "outputs": [
    {
     "data": {
      "text/plain": [
       "200"
      ]
     },
     "execution_count": 19,
     "metadata": {},
     "output_type": "execute_result"
    },
    {
     "data": {
      "text/plain": [
       "{'userId': 1,\n",
       " 'id': 1,\n",
       " 'title': 'sunt aut facere repellat provident occaecati excepturi optio reprehenderit',\n",
       " 'body': 'quia et suscipit\\nsuscipit recusandae consequuntur expedita et cum\\nreprehenderit molestiae ut ut quas totam\\nnostrum rerum est autem sunt rem eveniet architecto'}"
      ]
     },
     "execution_count": 19,
     "metadata": {},
     "output_type": "execute_result"
    },
    {
     "ename": "NameError",
     "evalue": "name 'page_response' is not defined",
     "output_type": "error",
     "traceback": [
      "\u001b[1;31m---------------------------------------------------------------------------\u001b[0m",
      "\u001b[1;31mNameError\u001b[0m                                 Traceback (most recent call last)",
      "\u001b[1;32m<ipython-input-19-1f1f66ad72e2>\u001b[0m in \u001b[0;36m<module>\u001b[1;34m\u001b[0m\n\u001b[0;32m      4\u001b[0m \u001b[0mresponse\u001b[0m\u001b[1;33m.\u001b[0m\u001b[0mjson\u001b[0m\u001b[1;33m(\u001b[0m\u001b[1;33m)\u001b[0m\u001b[1;33m\u001b[0m\u001b[1;33m\u001b[0m\u001b[0m\n\u001b[0;32m      5\u001b[0m \u001b[1;33m\u001b[0m\u001b[0m\n\u001b[1;32m----> 6\u001b[1;33m \u001b[0mcontent\u001b[0m \u001b[1;33m=\u001b[0m \u001b[0mpage_response\u001b[0m\u001b[1;33m.\u001b[0m\u001b[0mjson\u001b[0m\u001b[1;33m(\u001b[0m\u001b[1;33m)\u001b[0m\u001b[1;33m\u001b[0m\u001b[1;33m\u001b[0m\u001b[0m\n\u001b[0m\u001b[0;32m      7\u001b[0m \u001b[0mcontent\u001b[0m\u001b[1;33m.\u001b[0m\u001b[0mkeys\u001b[0m\u001b[1;33m(\u001b[0m\u001b[1;33m)\u001b[0m\u001b[1;33m\u001b[0m\u001b[1;33m\u001b[0m\u001b[0m\n",
      "\u001b[1;31mNameError\u001b[0m: name 'page_response' is not defined"
     ]
    }
   ],
   "source": [
    "url = \"https://jsonplaceholder.typicode.com/posts/1\"\n",
    "response = requests.get(url, timeout=240)\n",
    "response.status_code\n",
    "response.json()\n",
    "\n",
    "content = page_response.json()\n",
    "content.keys()"
   ]
  },
  {
   "cell_type": "code",
   "execution_count": 20,
   "metadata": {},
   "outputs": [
    {
     "data": {
      "text/html": [
       "<b>Rendered HTML</b>"
      ],
      "text/plain": [
       "<IPython.core.display.HTML object>"
      ]
     },
     "execution_count": 20,
     "metadata": {},
     "output_type": "execute_result"
    }
   ],
   "source": [
    "from IPython.core.display import HTML\n",
    "HTML(\"<b>Rendered HTML</b>\")"
   ]
  },
  {
   "cell_type": "code",
   "execution_count": 21,
   "metadata": {},
   "outputs": [
    {
     "data": {
      "text/html": [
       "<h1 class=\"b_42 company_name\">Hero Motocorp Ltd.</h1>"
      ],
      "text/plain": [
       "<IPython.core.display.HTML object>"
      ]
     },
     "execution_count": 21,
     "metadata": {},
     "output_type": "execute_result"
    }
   ],
   "source": [
    "response = requests.get(\"https://www.moneycontrol.com/india/stockpricequote/auto-2-3-wheelers/heromotocorp/HHM\", timeout=240)\n",
    "page_content = BeautifulSoup(response.content, \"html.parser\")\n",
    "HTML(str(page_content.find(\"h1\")))"
   ]
  },
  {
   "cell_type": "code",
   "execution_count": 22,
   "metadata": {},
   "outputs": [
    {
     "data": {
      "text/html": [
       "<div class=\"FL gL_13 PT15\" id=\"b_changetext\"> <span class=\"r_15 dnarw_pc\"><strong>-28.80</strong></span> (-1.04%)</div>"
      ],
      "text/plain": [
       "<IPython.core.display.HTML object>"
      ]
     },
     "execution_count": 22,
     "metadata": {},
     "output_type": "execute_result"
    }
   ],
   "source": [
    "response = requests.get(\"https://www.moneycontrol.com/india/stockpricequote/auto-2-3-wheelers/heromotocorp/HHM\", timeout=240)\n",
    "content = BeautifulSoup(response.content, \"html.parser\")\n",
    "\n",
    "price_div = content.find(\"div\",attrs={\"id\":'b_changetext'})\n",
    "HTML(str(price_div))"
   ]
  },
  {
   "cell_type": "code",
   "execution_count": 23,
   "metadata": {},
   "outputs": [
    {
     "data": {
      "text/plain": [
       "[<p class=\"title MB5\">A Quick View</p>,\n",
       " <p class=\"FL\">Login to moneycontrol.com</p>,\n",
       " <p class=\"gL15\"><strong>Existing Members, Login</strong></p>,\n",
       " <p class=\"gd11 FL\"><input type=\"checkbox\"/> Keep me signed in</p>,\n",
       " <p class=\"FR\"><a class=\"bl_11\" href=\"https://www3.in.com/sso/forgotpwd.php?ref=MC\" target=\"_blank\">Forgot Password?</a></p>,\n",
       " <p class=\"regtptx\"><strong>New to Moneycontrol - </strong> Sign up now</p>,\n",
       " <p class=\"redit13\">Its easy and FREE! </p>,\n",
       " <p><em><strong>OR</strong></em> connect with</p>,\n",
       " <p class=\"FL\">Buy Qty </p>,\n",
       " <p class=\"FR\" id=\"b_total_buy_qty\">15.48 K</p>,\n",
       " <p class=\"FL\">Sell QTY </p>,\n",
       " <p class=\"FR\" id=\"b_total_sell_qty\">15.94 K</p>,\n",
       " <p class=\"fs_10 clr_prpl\"><strong>Technicals</strong> </p>,\n",
       " <p class=\"fs_10 clr_gylw\"><strong>News</strong> </p>,\n",
       " <p class=\"fs_10 clr_gylw\"><strong>News</strong> </p>,\n",
       " <p class=\"fs_10 clr_gry\"><strong>Views</strong> </p>,\n",
       " <p class=\"fs_10 clr_grn\"><strong>Views</strong> </p>,\n",
       " <p class=\"fs_10 clr_gylw\"><strong>News</strong> </p>,\n",
       " <p class=\"fs_10 clr_grn\"><strong>Views</strong> </p>,\n",
       " <p class=\"fs_10 clr_drkbl\"><strong>Block Deals</strong> </p>,\n",
       " <p class=\"fs_10 clr_brwn\"><strong>Dividend</strong> </p>,\n",
       " <p class=\"fs_10 clr_gylw\"><strong>News</strong> </p>,\n",
       " <p class=\"fs_10 clr_grn\"><strong>Views</strong> </p>,\n",
       " <p class=\"fs_10 clr_prpl\"><strong>Technicals</strong> </p>,\n",
       " <p class=\"fs_10 clr_gylw\"><strong>News</strong> </p>,\n",
       " <p class=\"fs_10 clr_gylw\"><strong>News</strong> </p>,\n",
       " <p class=\"fs_10 clr_gylw\"><strong>News</strong> </p>,\n",
       " <p class=\"fs_10 clr_drkbl\"><strong>Block Deals</strong> </p>,\n",
       " <p class=\"fs_10 clr_gylw\"><strong>News</strong> </p>,\n",
       " <p class=\"fs_10 clr_prpl\"><strong>52 Week Low</strong> </p>,\n",
       " <p class=\"fs_10 clr_gylw\"><strong>News</strong> </p>,\n",
       " <p class=\"fs_10 clr_prpl\"><strong>52 Week Low</strong> </p>,\n",
       " <p class=\"b18\"><strong>Hero Motocorp</strong><br/>\n",
       " <span class=\"or18 UC\"><strong>Sentimeter</strong></span>\n",
       " </p>,\n",
       " <p class=\"gDl_15\">\n",
       " <span class=\"grnb_20\">100%</span> of moneycontrol users recommend <span class=\"gD_18\"><strong>buying</strong></span> Hero Motocorp. \n",
       " \n",
       " \t\t\t\t\t\t\t\t\n",
       " \n",
       " \t\t\t\t\t\t\t\n",
       " \t\t\t\t\t\t\t\t<span class=\"gD_18\"><strong>What's your call on Hero Motocorp today?</strong></span>\n",
       " <br/><a class=\"bl_11\" href=\"https://mmb.moneycontrol.com/stock-message-forum/heromotocorp/comments/1104?utm_source=PC_SENTI\" target=\"_blank\" title=\"new comments\"><u>Read 27 investor views</u></a>\n",
       " </p>,\n",
       " <p class=\"PT15\">\n",
       " <a class=\"pl_btn\" href=\"javascript:void(0);\" onclick=\"set_count('Hero Motocorp','HHM','b');\" style=\"cursor:pointer;\"></a>\n",
       " <a class=\"pl_btn sell ML10\" href=\"javascript:void(0);\" onclick=\"set_count('Hero Motocorp','HHM','s');\" style=\"cursor:pointer;\"></a>\n",
       " <a class=\"pl_btn hold ML10\" href=\"javascript:void(0);\" onclick=\"set_count('Hero Motocorp','HHM','h');\" style=\"cursor:pointer;\"></a>\n",
       " </p>,\n",
       " <p class=\"gD_13\"><strong id=\"sent_thank\">Thank you for voting</strong></p>,\n",
       " <p class=\"UC\">Top Trading Ideas</p>,\n",
       " <p class=\"g8\">15 February 2019</p>,\n",
       " <p><span class=\"ic_sell\">sell</span></p>,\n",
       " <p><span class=\"gld18\"> TitanCompany  Feb Fut</span></p>,\n",
       " <p class=\"gl9\">Entry Price (Rs)</p>,\n",
       " <p><strong>1,043.55</strong></p>,\n",
       " <p class=\"gl9\">Exit Price (Rs)</p>,\n",
       " <p><strong>1,028.00</strong></p>,\n",
       " <p class=\"gl9\">Gain (Rs)</p>,\n",
       " <p><strong>16.00</strong></p>,\n",
       " <p><span class=\"ic_sell\">sell</span></p>,\n",
       " <p><span class=\"gld18\"> UnitedBrewerie  Feb Fut</span></p>,\n",
       " <p class=\"gl9\">Entry Price (Rs)</p>,\n",
       " <p><strong>1,401.45</strong></p>,\n",
       " <p class=\"gl9\">Exit Price (Rs)</p>,\n",
       " <p><strong>1,346.00</strong></p>,\n",
       " <p class=\"gl9\">Gain (Rs)</p>,\n",
       " <p><strong>55.00</strong></p>,\n",
       " <p class=\"bl_15 PT10\"><a class=\"bl_11\" href=\"/stocks/histstock.php?sc_id=HHM&amp;mycomp=Hero Motocorp\">Get Historical Stock Prices »</a></p>,\n",
       " <p class=\"gL_11 brdb2 PB10 PT2\"><a class=\"bl_11\" href=\"/stocks/histstock.php?sc_id=HHM&amp;mycomp=Hero Motocorp\">Click here</a> to view the Open, High, Low, Close, Volume and Spread data for Hero Motocorp</p>,\n",
       " <p><span class=\"gD_16\"><strong>WPIL</strong></span> Recommended on Apr 26th 2017</p>,\n",
       " <p class=\"PT3\"><span class=\"st_grn11 UC\">Recommended price</span> <span class=\"gD_16\"><strong>458.00</strong></span>  |  <span class=\"st_grn11 UC\">Peak from reco</span> <span class=\"gD_16\"><strong>987.00</strong></span> <span class=\"st_arwgrn\"></span> <span class=\"gr_14\"><strong>115.53%</strong></span></p>,\n",
       " <p class=\"PT3\"><a class=\"st_bl14\" href=\"https://poweryourtrade.moneycontrol.com/plus/multibagger/multibagger_recommendation.php?id=all&amp;utm_source=PYT_PC_FOOT\">For more multi bagger recommendations click here</a></p>,\n",
       " <p style=\"font-size:12px; font-weight:bold;\">What are Multi baggers?</p>,\n",
       " <p>Our experts panel will help you to get you those \n",
       "  life-changing stocks, tomorrow's bluechips today.</p>,\n",
       " <p>Hero Motocorp is in the Auto - 2 &amp; 3 Wheelers sector. The current market capitalisation stands at Rs 54,665.25 crore.<br><br>The company management includes Pawan Munjal - Chairman &amp; M.D &amp; CEO, Vikram S Kasbekar - Executive Director - Operations, Suman Kant Munjal - Non Executive Director, Jagmohan Singh Raju - Independent Director, Paul Edgerley - Ind. Non-Executive Director, Pradeep Dinodia - Ind. Non-Executive Director, V P Malik - Ind. Non-Executive Director, Shobana Kamineni - Ind. Non-Executive Director, Anand C Burman - Ind. Non-Executive Director, M Damodaran - Ind. Non-Executive Director, Pritam Singh - Ind. Non-Executive Director, Ravi Nath - Ind. Non-Executive Director. <br><br>It is listed on the BSE with a BSE Code of 500182 and the NSE with an NSE Code of HEROMOTOCO.<br><br>Its Registered office is at 34, Community Centre, Basant Lok,,Vasant Vihar, New Delhi,Delhi - 110057.<br><br>Their Registrars are Karvy Computershare Private Ltd.</br></br></br></br></br></br></br></br></p>,\n",
       " <p class=\"FL\" style=\"height:32px; overflow:hidden;\"> <a class=\"flFacebook\" href=\"https://www.facebook.com/moneycontrolFB\" rel=\"nofollow\" target=\"_blank\" title=\"Follow us on Facebook\">Facebook</a> <a class=\"flTwitter\" href=\"https://twitter.com/moneycontrolcom\" rel=\"nofollow\" target=\"_blank\" title=\"Follow us on Twitter\">Twitter</a> <a class=\"flRss\" href=\"https://www.moneycontrol.com/india/newsarticle/rssfeeds/rssfeeds.php\" title=\"Stay connected to the world of finance with our RSS Feeds\">RSS</a> <a class=\"flWap\" href=\" https://www.moneycontrol.com/markets_on_mobile/wap-sms.php\" title=\"To access moneycontrol, point your mobile phone browser to m.moneycontrol.com\">Wap SMS</a> <a class=\"flsms\" href=\"https://www.moneycontrol.com/stock_track/\" title=\"Get Stock Alerts through SMS\">SMS</a> <a class=\"flalert\" href=\"https://www.moneycontrol.com/alerts/\" title=\"Get customised mail alerts in your Inbox\">Alert</a> <a class=\"flipad\" href=\"http://itunes.apple.com/app/moneycontrol-for-ipad-financial/id474708356?mt=8\" rel=\"nofollow\" target=\"_blank\" title=\"Get the top Finance app on your iPad\">iPad</a> <a class=\"fliphone\" href=\"http://itunes.apple.com/app/moneycontrols-markets-on-mobile/id408654600?mt=8\" rel=\"nofollow\" target=\"_blank\" title=\"Get the top Finance app on your iPhone\">iPhone</a> <a class=\"flblackberry\" href=\"https://www.moneycontrol.com/apps/BlackBerry\" title=\"Get the top Finance app on your BlackBerry\">Blackberry</a> <a class=\"flovi\" href=\"https://www.moneycontrol.com/apps/Nokia\" title=\"Get the top Finance app on your Nokia\">OVI</a> <a class=\"flAndroid\" href=\"https://www.moneycontrol.com/apps/Android\" title=\"Get the top Finance app on your Android\">Android</a><a class=\"flWindow\" href=\"http://www.windowsphone.com/en-IN/apps/aadeacdd-9c18-41d8-aee8-e5f3b8f76f5d\" rel=\"nofollow\" target=\"_blank\" title=\"Get the top Finance app on your WindowsPhone\">Window</a>\n",
       " </p>,\n",
       " <p class=\"CL\"></p>]"
      ]
     },
     "execution_count": 23,
     "metadata": {},
     "output_type": "execute_result"
    }
   ],
   "source": [
    "content.find_all(\"p\")\n",
    "content.find_next(\"p\",attrs={\"class\":\"my-id\"})"
   ]
  },
  {
   "cell_type": "code",
   "execution_count": 24,
   "metadata": {},
   "outputs": [
    {
     "ename": "AttributeError",
     "evalue": "'NoneType' object has no attribute 'text'",
     "output_type": "error",
     "traceback": [
      "\u001b[1;31m---------------------------------------------------------------------------\u001b[0m",
      "\u001b[1;31mAttributeError\u001b[0m                            Traceback (most recent call last)",
      "\u001b[1;32m<ipython-input-24-ed8dab613e7e>\u001b[0m in \u001b[0;36m<module>\u001b[1;34m\u001b[0m\n\u001b[0;32m      1\u001b[0m \u001b[0melem\u001b[0m \u001b[1;33m=\u001b[0m \u001b[0mcontent\u001b[0m\u001b[1;33m.\u001b[0m\u001b[0mfind\u001b[0m\u001b[1;33m(\u001b[0m\u001b[1;34m\"p\"\u001b[0m\u001b[1;33m,\u001b[0m\u001b[0mattrs\u001b[0m\u001b[1;33m=\u001b[0m\u001b[1;33m{\u001b[0m\u001b[1;34m\"class\"\u001b[0m\u001b[1;33m:\u001b[0m\u001b[1;34m\"my-id\"\u001b[0m\u001b[1;33m}\u001b[0m\u001b[1;33m)\u001b[0m\u001b[1;33m\u001b[0m\u001b[1;33m\u001b[0m\u001b[0m\n\u001b[1;32m----> 2\u001b[1;33m \u001b[0mtext\u001b[0m \u001b[1;33m=\u001b[0m \u001b[0melem\u001b[0m\u001b[1;33m.\u001b[0m\u001b[0mtext\u001b[0m\u001b[1;33m\u001b[0m\u001b[1;33m\u001b[0m\u001b[0m\n\u001b[0m",
      "\u001b[1;31mAttributeError\u001b[0m: 'NoneType' object has no attribute 'text'"
     ]
    }
   ],
   "source": [
    "elem = content.find(\"p\",attrs={\"class\":\"my-id\"})\n",
    "text = elem.text"
   ]
  },
  {
   "cell_type": "code",
   "execution_count": 25,
   "metadata": {},
   "outputs": [
    {
     "data": {
      "text/plain": [
       "[' ', <span class=\"r_15 dnarw_pc\"><strong>-28.80</strong></span>, ' (-1.04%)']"
      ]
     },
     "execution_count": 25,
     "metadata": {},
     "output_type": "execute_result"
    }
   ],
   "source": [
    "list(price_div.children)"
   ]
  },
  {
   "cell_type": "code",
   "execution_count": null,
   "metadata": {},
   "outputs": [],
   "source": []
  },
  {
   "cell_type": "code",
   "execution_count": null,
   "metadata": {},
   "outputs": [],
   "source": []
  },
  {
   "cell_type": "code",
   "execution_count": null,
   "metadata": {},
   "outputs": [],
   "source": []
  },
  {
   "cell_type": "code",
   "execution_count": null,
   "metadata": {},
   "outputs": [],
   "source": []
  },
  {
   "cell_type": "code",
   "execution_count": null,
   "metadata": {},
   "outputs": [],
   "source": []
  },
  {
   "cell_type": "code",
   "execution_count": null,
   "metadata": {},
   "outputs": [],
   "source": []
  }
 ],
 "metadata": {
  "kernelspec": {
   "display_name": "Python 3",
   "language": "python",
   "name": "python3"
  },
  "language_info": {
   "codemirror_mode": {
    "name": "ipython",
    "version": 3
   },
   "file_extension": ".py",
   "mimetype": "text/x-python",
   "name": "python",
   "nbconvert_exporter": "python",
   "pygments_lexer": "ipython3",
   "version": "3.7.1"
  }
 },
 "nbformat": 4,
 "nbformat_minor": 2
}
